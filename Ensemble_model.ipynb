{
 "cells": [
  {
   "cell_type": "markdown",
   "id": "3153e502",
   "metadata": {},
   "source": [
    "# Import packages"
   ]
  },
  {
   "cell_type": "code",
   "execution_count": 1,
   "id": "bd8f1817",
   "metadata": {},
   "outputs": [],
   "source": [
    "from sklearn.tree import DecisionTreeClassifier\n",
    "from sklearn.neighbors import KNeighborsClassifier\n",
    "from sklearn.neural_network import MLPClassifier\n",
    "from sklearn.naive_bayes import MultinomialNB\n",
    "import pandas as pd\n",
    "import numpy as np\n",
    "from numpy import mean,std\n",
    "from sklearn.metrics import accuracy_score,confusion_matrix\n",
    "from sklearn.model_selection import cross_val_score,KFold,cross_validate,RepeatedStratifiedKFold\n",
    "import matplotlib.pyplot as plt\n",
    "import seaborn as sns\n",
    "from mlxtend.classifier import EnsembleVoteClassifier\n",
    "import joblib"
   ]
  },
  {
   "cell_type": "markdown",
   "id": "86865377",
   "metadata": {},
   "source": [
    "# Load data and fitted models "
   ]
  },
  {
   "cell_type": "code",
   "execution_count": 2,
   "id": "3bec6da4",
   "metadata": {},
   "outputs": [],
   "source": [
    "X_train = (pd.read_csv('data/X_train.csv',header=None,skiprows=1,index_col=0).values).tolist()\n",
    "x_test = (pd.read_csv('data/x_test.csv',header=None,skiprows=1,index_col=0).values).tolist()\n",
    "\n",
    "y_train = sum(((pd.read_csv('data/y_train.csv',header=None,skiprows=1,index_col=0).values).tolist()),[])\n",
    "y_test = sum(((pd.read_csv('data/y_test.csv',header=None, skiprows=1,index_col=0).values).tolist()),[])"
   ]
  },
  {
   "cell_type": "code",
   "execution_count": 3,
   "id": "e8404b7c",
   "metadata": {},
   "outputs": [],
   "source": [
    "#standard normalization for KNN and Neural Network\n",
    "mu = np.mean(X_train, axis=0)\n",
    "sigma = np.std(X_train, axis=0)\n",
    "\n",
    "X_train_sn = (X_train - mu)/sigma\n",
    "x_test_sn = (x_test - mu)/sigma"
   ]
  },
  {
   "cell_type": "code",
   "execution_count": 4,
   "id": "3f0c961c",
   "metadata": {},
   "outputs": [],
   "source": [
    "dt_clf = joblib.load('saved_model/tree.pkl')\n",
    "knn_clf = joblib.load('saved_model/knn.pkl')\n",
    "nb_clf = joblib.load('saved_model/bayes.pkl')\n",
    "nn_clf = joblib.load('saved_model/neural.pkl')"
   ]
  },
  {
   "cell_type": "markdown",
   "id": "1aabb367",
   "metadata": {},
   "source": [
    "# Implement ensemble classifier"
   ]
  },
  {
   "cell_type": "markdown",
   "id": "542145f2",
   "metadata": {},
   "source": [
    "Parameters:\n",
    "- clfs: A list of classifiers. Four base estimators in this task.\n",
    "- weights: Sequence of weights to weight the occurrences of predicted class labels. Set above models to have the same weights.\n",
    "- voting: If 'hard', uses predicted class labels for majority rule voting. Else if 'soft', predicts the class label based on the argmax of the sums of the predicted probalities.\n",
    "- fit_base_estimators: Refits classifiers in clfs if True; if False, uses references to the clfs. fit_base_estimators=False allows use of classifiers were already fit, but it would raise a NotFitterError when performing cross-validating.\n"
   ]
  },
  {
   "cell_type": "code",
   "execution_count": 5,
   "id": "3b494597",
   "metadata": {},
   "outputs": [],
   "source": [
    "vot_clf = EnsembleVoteClassifier([dt_clf,knn_clf,nb_clf,nn_clf], weights=[1,1,1,1]\n",
    "                                 ,voting = \"soft\"\n",
    "                                 ,fit_base_estimators=False\n",
    "                                )"
   ]
  },
  {
   "cell_type": "markdown",
   "id": "e3f4720a",
   "metadata": {},
   "source": [
    "Fit the voting classifier and measure the accuracy of voting classifier. "
   ]
  },
  {
   "cell_type": "code",
   "execution_count": 6,
   "id": "c5ffcbed",
   "metadata": {
    "scrolled": true
   },
   "outputs": [
    {
     "name": "stderr",
     "output_type": "stream",
     "text": [
      "/opt/anaconda3/lib/python3.8/site-packages/mlxtend/classifier/ensemble_vote.py:166: UserWarning: fit_base_estimators=False enforces use_clones to be `False`\n",
      "  warnings.warn(\"fit_base_estimators=False \"\n"
     ]
    }
   ],
   "source": [
    "vot_clf = vot_clf.fit(X_train,y_train)\n",
    "vot_pred=vot_clf.predict(x_test)"
   ]
  },
  {
   "cell_type": "code",
   "execution_count": 7,
   "id": "b6f4bb30",
   "metadata": {},
   "outputs": [
    {
     "name": "stdout",
     "output_type": "stream",
     "text": [
      "Ensemble model accuracy: 0.5384615384615384\n"
     ]
    }
   ],
   "source": [
    "accuracy = accuracy_score(y_test,vot_pred)\n",
    "print(\"Ensemble model accuracy:\",accuracy)"
   ]
  },
  {
   "cell_type": "markdown",
   "id": "7782f7b0",
   "metadata": {},
   "source": [
    "Measure the train and test accuracy of each classifier, including the ensembled one."
   ]
  },
  {
   "cell_type": "code",
   "execution_count": 8,
   "id": "0f11f80f",
   "metadata": {
    "scrolled": true
   },
   "outputs": [
    {
     "name": "stdout",
     "output_type": "stream",
     "text": [
      "KNeighborsClassifier\n",
      "\ttrain: 0.967741935483871\n",
      "\ttest: 0.46153846153846156\n",
      "MLPClassifier\n",
      "\ttrain: 0.5870967741935483\n",
      "\ttest: 0.23076923076923078\n",
      "DecisionTreeClassifier\n",
      "\ttrain: 0.5419354838709678\n",
      "\ttest: 0.41025641025641024\n",
      "CategoricalNB\n",
      "\ttrain: 0.6709677419354839\n",
      "\ttest: 0.5128205128205128\n",
      "EnsembleVoteClassifier\n",
      "\ttrain: 0.7161290322580646\n",
      "\ttest: 0.5384615384615384\n"
     ]
    }
   ],
   "source": [
    "dicct = {}\n",
    "for clf in (knn_clf, nn_clf):\n",
    "    print(clf.__class__.__name__)\n",
    "    y_pred = clf.predict(X_train_sn)\n",
    "    print('\\ttrain:', accuracy_score(y_train, y_pred))\n",
    "    y_pred = clf.predict(x_test_sn)\n",
    "    print('\\ttest:', accuracy_score(y_test, y_pred))\n",
    "    dicct[clf.__class__.__name__] = accuracy_score(y_test, y_pred)\n",
    "\n",
    "for clf in (dt_clf, nb_clf, vot_clf):\n",
    "    print(clf.__class__.__name__)\n",
    "    y_pred = clf.predict(X_train)\n",
    "    print('\\ttrain:', accuracy_score(y_train, y_pred))\n",
    "    y_pred = clf.predict(x_test)\n",
    "    print('\\ttest:', accuracy_score(y_test, y_pred))\n",
    "    dicct[clf.__class__.__name__] = accuracy_score(y_test, y_pred)"
   ]
  },
  {
   "cell_type": "code",
   "execution_count": 9,
   "id": "0c5d885d",
   "metadata": {},
   "outputs": [
    {
     "data": {
      "image/png": "[encoded data removed]",
      "text/plain": [
       "<Figure size 432x288 with 1 Axes>"
      ]
     },
     "metadata": {
      "needs_background": "light"
     },
     "output_type": "display_data"
    }
   ],
   "source": [
    "x = [i for i in dicct.keys()]\n",
    "y = [i for i in dicct.values()]\n",
    "plt.bar(x,y,color = '#A45568',edgecolor='#E3990E')\n",
    "plt.xlabel('Classifiers')\n",
    "plt.xticks(rotation=90)\n",
    "plt.ylabel('Accuracy')\n",
    "plt.title('Final accuracies on test dataset for different models')\n",
    "plt.rcParams['figure.figsize'] = (8,10)"
   ]
  },
  {
   "cell_type": "markdown",
   "id": "5299863c",
   "metadata": {},
   "source": [
    "# Accuracy Evaluation"
   ]
  },
  {
   "cell_type": "markdown",
   "id": "6bf6454e",
   "metadata": {},
   "source": [
    "The confusion matrix provides a better visualisation of the model predictions versus the true values. Every row represents true values of instances and columns represent predicted values of them. The diagonal values of the confusion matrix are indicated to make the correct classification."
   ]
  },
  {
   "cell_type": "code",
   "execution_count": 10,
   "id": "1061c9c5",
   "metadata": {},
   "outputs": [
    {
     "data": {
      "text/plain": [
       "Text(56.760000000000005, 0.5, 'Predicted label')"
      ]
     },
     "execution_count": 10,
     "metadata": {},
     "output_type": "execute_result"
    },
    {
     "data": {
      "image/png": "[encoded data removed]",
      "text/plain": [
       "<Figure size 576x576 with 1 Axes>"
      ]
     },
     "metadata": {
      "needs_background": "light"
     },
     "output_type": "display_data"
    }
   ],
   "source": [
    "#confision matrix https://scikit-learn.org/stable/modules/generated/sklearn.metrics.confusion_matrix.html\n",
    "matrix_ensemble = confusion_matrix(y_test, vot_pred)\n",
    "\n",
    "fig, ax = plt.subplots(figsize=(8, 8))\n",
    "sns.heatmap(matrix_ensemble.T, square=True, annot=True, fmt='d', cbar=False, ax=ax)\n",
    "ax.yaxis.set_ticklabels(['N.America','S.America','Europe','Africa','Asia','Oceania'])\n",
    "ax.xaxis.set_ticklabels(['N.America','S.America','Europe','Africa','Asia','Oceania'])\n",
    "plt.xlabel('True label')\n",
    "plt.ylabel('Predicted label')"
   ]
  },
  {
   "cell_type": "code",
   "execution_count": null,
   "id": "9cd2fcc0",
   "metadata": {},
   "outputs": [],
   "source": []
  }
 ],
 "metadata": {
  "kernelspec": {
   "display_name": "Python 3",
   "language": "python",
   "name": "python3"
  },
  "language_info": {
   "codemirror_mode": {
    "name": "ipython",
    "version": 3
   },
   "file_extension": ".py",
   "mimetype": "text/x-python",
   "name": "python",
   "nbconvert_exporter": "python",
   "pygments_lexer": "ipython3",
   "version": "3.8.2"
  }
 },
 "nbformat": 4,
 "nbformat_minor": 5
}
