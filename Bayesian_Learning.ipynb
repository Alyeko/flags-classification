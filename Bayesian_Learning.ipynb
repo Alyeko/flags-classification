{
 "cells": [
  {
   "cell_type": "markdown",
   "id": "771f5630",
   "metadata": {},
   "source": [
    "# Bayesian Learning\n",
    "\n",
    "Implementing the Naive Bayes classifier with Scikit-Learn."
   ]
  },
  {
   "cell_type": "markdown",
   "id": "7c09559f",
   "metadata": {},
   "source": [
    "## 1. Import libraries\n",
    "Importing necessary libraries."
   ]
  },
  {
   "cell_type": "code",
   "execution_count": 2,
   "id": "144033ad",
   "metadata": {},
   "outputs": [],
   "source": [
    "import numpy as np\n",
    "import pandas as pd\n",
    "import seaborn as sns\n",
    "\n",
    "from sklearn.naive_bayes import GaussianNB\n",
    "from sklearn.naive_bayes import ComplementNB\n",
    "from sklearn.naive_bayes import MultinomialNB\n",
    "from sklearn.naive_bayes import CategoricalNB\n",
    "from sklearn.naive_bayes import BernoulliNB\n",
    "\n",
    "from matplotlib import pyplot as plt\n",
    "\n",
    "from sklearn.metrics import confusion_matrix\n",
    "from sklearn.metrics import classification_report\n",
    "from sklearn.metrics import accuracy_score\n",
    "\n",
    "from sklearn.model_selection import GridSearchCV\n",
    "\n",
    "import joblib\n",
    "\n",
    "# Pre-setting precision parameters\n",
    "np.set_printoptions(precision=2)"
   ]
  },
  {
   "cell_type": "markdown",
   "id": "c1ae14ad",
   "metadata": {},
   "source": [
    "## 2. Import datasets\n",
    "Importing training, validation and test data and making normalization.\n",
    "Normalization is not applicable, because it could cause negative values."
   ]
  },
  {
   "cell_type": "code",
   "execution_count": 3,
   "id": "053613c1",
   "metadata": {},
   "outputs": [],
   "source": [
    "# Import trainig and test datasets\n",
    "X_train = (pd.read_csv('data/X_train.csv',header=None,skiprows=1,index_col=0).values).tolist()\n",
    "x_test = (pd.read_csv('data/x_test.csv',header=None,skiprows=1,index_col=0).values).tolist()\n",
    "\n",
    "y_train = sum(((pd.read_csv('data/y_train.csv',header=None,skiprows=1,index_col=0).values).tolist()),[])\n",
    "y_test = sum(((pd.read_csv('data/y_test.csv',header=None, skiprows=1,index_col=0).values).tolist()),[])\n",
    "\n",
    "# Pre-defining calculateted prior probabilities of the classes (according to knowledge countries spatial distribution)\n",
    "class_prior = [0.16, 0.09, 0.18, 0.27, 0.20, 0.10]"
   ]
  },
  {
   "cell_type": "markdown",
   "id": "6a4d4c5e",
   "metadata": {},
   "source": [
    "## 3. The Naive Bayes Classifiers in Scikit-Learn: Comparasion of accuracy between default GaussianNB, ComplementNB, BernoulliNB, MultinomialNB and CategoricalNB models\n",
    "Testing different Naive Bayes Classifier estimators:\n",
    "- GaussianNB - which is suited for features which have Gaussian distribution of likelihood.\n",
    "- ComplementNB - which is suited for imbalanced classification problems.\n",
    "- BernoulliNB - which is suited for  binary/boolean features (should be same as MultinomialNB in our dataset).\n",
    "- MultinomialNB - which is suited for multinomially distributed data (should be same as BernoulliNB in our dataset).\n",
    "- CategoricalNB - which is suited for categorical data distribution.\n",
    "\n",
    "Testing one by one the accuracy of GaussianNB, ComplementNB, BernoulliNB, MultinomialNB and CategoricalNB models and finding the best solution in terms of errors. We are comparing default models in this step."
   ]
  },
  {
   "cell_type": "code",
   "execution_count": 4,
   "id": "242a479d",
   "metadata": {},
   "outputs": [
    {
     "name": "stdout",
     "output_type": "stream",
     "text": [
      "\u001b[1mGaussianNB model\u001b[0m\n",
      "Accuracy score on training set: 0.3096774193548387\n",
      "Accuracy score on test set: 0.15384615384615385\n",
      "\u001b[1mComplementNB model\u001b[0m\n",
      "Accuracy score on training set: 0.5483870967741935\n",
      "Accuracy score on test set: 0.41025641025641024\n",
      "\u001b[1mBernoulliNB model\u001b[0m\n",
      "Accuracy score on training set: 0.567741935483871\n",
      "Accuracy score on test set: 0.4358974358974359\n",
      "\u001b[1mMultinomialNB model\u001b[0m\n",
      "Accuracy score on training set: 0.5548387096774193\n",
      "Accuracy score on test set: 0.4358974358974359\n",
      "\u001b[1mCategoricalNB model\u001b[0m\n",
      "Accuracy score on training set: 0.6\n",
      "Accuracy score on test set: 0.5384615384615384\n"
     ]
    }
   ],
   "source": [
    "# GaussianNB: fitting default model to train data, evaluating it and printing accuracy\n",
    "gaussian_nb = GaussianNB()\n",
    "gaussian_nb.fit(X_train, y_train)\n",
    "gaussian_y_pred = gaussian_nb.predict(x_test)\n",
    "print('\\033[1m' + 'GaussianNB model' + '\\033[0m')\n",
    "print(f'Accuracy score on training set: {gaussian_nb.score(X_train, y_train)}')\n",
    "print(f'Accuracy score on test set: {accuracy_score(y_test, gaussian_y_pred)}')\n",
    "\n",
    "# ComplementNB: fitting default model to train data, evaluating it and printing accuracy\n",
    "complement_nb = ComplementNB()\n",
    "complement_nb.fit(X_train, y_train)\n",
    "complement_y_pred = complement_nb.predict(x_test)\n",
    "print('\\033[1m' + 'ComplementNB model' + '\\033[0m')\n",
    "print(f'Accuracy score on training set: {complement_nb.score(X_train, y_train)}')\n",
    "print(f'Accuracy score on test set: {accuracy_score(y_test, complement_y_pred)}')\n",
    "\n",
    "# BernoulliNB: fitting default model to train data, evaluating it and printing accuracy\n",
    "bernoulli_nb = BernoulliNB()\n",
    "bernoulli_nb.fit(X_train, y_train)\n",
    "bernoulli_y_pred = bernoulli_nb.predict(x_test)\n",
    "print('\\033[1m' + 'BernoulliNB model' + '\\033[0m')\n",
    "print(f'Accuracy score on training set: {bernoulli_nb.score(X_train, y_train)}')\n",
    "print(f'Accuracy score on test set: {accuracy_score(y_test, bernoulli_y_pred)}')\n",
    "\n",
    "# MultinomialNB: fitting default model to train data, evaluating it and printing accuracy\n",
    "multinomial_nb = MultinomialNB()\n",
    "multinomial_nb.fit(X_train, y_train)\n",
    "multinomial_y_pred = multinomial_nb.predict(x_test)\n",
    "print('\\033[1m' + 'MultinomialNB model' + '\\033[0m')\n",
    "print(f'Accuracy score on training set: {multinomial_nb.score(X_train, y_train)}')\n",
    "print(f'Accuracy score on test set: {accuracy_score(y_test, multinomial_y_pred)}')\n",
    "\n",
    "# CategoricalNB: fitting default model to train data, evaluating it and printing accuracy\n",
    "categorical_nb = CategoricalNB()\n",
    "categorical_nb.fit(X_train, y_train)\n",
    "categorical_y_pred = categorical_nb.predict(x_test)\n",
    "print('\\033[1m' + 'CategoricalNB model' + '\\033[0m')\n",
    "print(f'Accuracy score on training set: {categorical_nb.score(X_train, y_train)}')\n",
    "print(f'Accuracy score on test set: {accuracy_score(y_test, categorical_y_pred)}')"
   ]
  },
  {
   "cell_type": "markdown",
   "id": "f4c445bf",
   "metadata": {},
   "source": [
    "Comparing the default models, we see that the best accuracy parameters belong to the CategoricalNB model. Further, CategoricalNB model will be analyzed and eveluated."
   ]
  },
  {
   "cell_type": "markdown",
   "id": "8e981148",
   "metadata": {},
   "source": [
    "## 4. Tuning model on various Hyperparameters\n",
    "Using a Grid Search on various Hyperparameters to find out best fit, which will have almost the same accuracy fot both train and test datasets.\n",
    "We will use parameters as follows:\n",
    "- 'alpha' parameter, which represents the adaptive smoothing of a model.\n",
    "- 'fit_prior' parameter which define whether to learn class prior probabilities or not.\n",
    "- 'min_categories' is not tested and will be regarded as 'None', i.e. number of categories will be calcilated automatically from the training data."
   ]
  },
  {
   "cell_type": "code",
   "execution_count": 5,
   "id": "08ad02c1",
   "metadata": {},
   "outputs": [
    {
     "name": "stdout",
     "output_type": "stream",
     "text": [
      "Fitting 10 folds for each of 14 candidates, totalling 140 fits\n",
      "Best Parameters : {'alpha': 0.01, 'fit_prior': True}\n"
     ]
    },
    {
     "name": "stderr",
     "output_type": "stream",
     "text": [
      "C:\\ProgramData\\Anaconda3\\envs\\geospatial\\lib\\site-packages\\sklearn\\model_selection\\_search.py:972: UserWarning: One or more of the test scores are non-finite: [nan nan nan nan nan nan nan nan nan nan nan nan nan nan]\n",
      "  category=UserWarning,\n"
     ]
    }
   ],
   "source": [
    "# Tuning Hyperparameters with the usage of Grid Search\n",
    "param_grid = {'alpha': [0.01, 0.1, 0.5, 1.0, 2.0, 5.0, 10.0],\n",
    "              'fit_prior': [True, False],\n",
    "             }\n",
    "\n",
    "estimator = CategoricalNB()\n",
    "categorical_nb_grid = GridSearchCV(estimator=estimator, param_grid=param_grid, verbose=3, cv=10, n_jobs=-1)\n",
    "\n",
    "categorical_nb_grid.fit(X_train, y_train)\n",
    "\n",
    "print(f'Best Parameters : {categorical_nb_grid.best_params_}')"
   ]
  },
  {
   "cell_type": "markdown",
   "id": "038e93cf",
   "metadata": {},
   "source": [
    "In our case the optimal calculated Hyperparameters shows maximum accuracy score equal to 0.625. Optinal Hyperparameters are as follows:\n",
    "\n",
    "- 'alpha' tends to be equal to '0.01' and also tends to zero (1.0e-10).\n",
    "- 'fit_prior' tends to be equal to 'True'."
   ]
  },
  {
   "cell_type": "markdown",
   "id": "576f56ef",
   "metadata": {},
   "source": [
    "## CategoricalNB Model with optinal parameters and its evaluation\n",
    "Evaluating the CategoricalNB model with optimal parameters:\n",
    "- Run CategoricalNB model with optimal parameters, including presefined prior probabilities of the classes (according to knowledge countries spatial distribution).\n",
    "- Evaluating model and model fitting by plotting confusion matrix. Each row of the matrix represents the instances in a predicted class, while each column represents the instances in an actual class. Correctly classified values are located diagonally"
   ]
  },
  {
   "cell_type": "code",
   "execution_count": 6,
   "id": "76b8172d",
   "metadata": {},
   "outputs": [
    {
     "name": "stdout",
     "output_type": "stream",
     "text": [
      "\u001b[1mCategoricalNB model with optimal parameters\u001b[0m\n",
      "Accuracy score on training set: 0.6709677419354839\n",
      "Accuracy score on test set: 0.5128205128205128\n"
     ]
    }
   ],
   "source": [
    "# CategoricalNB: fitting model with optimal parameters to train data, evaluating it and printing accuracy\n",
    "categorical_nb_final = CategoricalNB(alpha=1.0e-10, fit_prior=True, class_prior=class_prior, min_categories=None)\n",
    "categorical_nb_final.fit(X_train, y_train)\n",
    "categorical_y_final_pred = categorical_nb_final.predict(x_test)\n",
    "print('\\033[1m' + 'CategoricalNB model with optimal parameters' + '\\033[0m')\n",
    "print(f'Accuracy score on training set: {categorical_nb_final.score(X_train, y_train)}')\n",
    "print(f'Accuracy score on test set: {accuracy_score(y_test, categorical_y_final_pred)}')"
   ]
  },
  {
   "cell_type": "code",
   "execution_count": 7,
   "id": "34164e6a",
   "metadata": {
    "scrolled": true
   },
   "outputs": [
    {
     "data": {
      "text/plain": [
       "Text(37.32000000000001, 0.5, 'Predicted label')"
      ]
     },
     "execution_count": 7,
     "metadata": {},
     "output_type": "execute_result"
    },
    {
     "data": {
      "image/png": "[encoded data removed]",
      "text/plain": [
       "<Figure size 432x432 with 1 Axes>"
      ]
     },
     "metadata": {
      "needs_background": "light"
     },
     "output_type": "display_data"
    }
   ],
   "source": [
    "# Defining plotting parameters and plotting confusion matrix\n",
    "matrix_categorical = confusion_matrix(y_test, categorical_y_final_pred)\n",
    "\n",
    "fig, ax = plt.subplots(figsize=(6, 6))\n",
    "sns.heatmap(matrix_categorical.T, square=True, annot=True, fmt='d', cbar=False, ax=ax)\n",
    "ax.yaxis.set_ticklabels(['N.America','S.America','Europe','Africa','Asia','Oceania'])\n",
    "ax.xaxis.set_ticklabels(['N.America','S.America','Europe','Africa','Asia','Oceania'])\n",
    "plt.xlabel('True label')\n",
    "plt.ylabel('Predicted label')"
   ]
  },
  {
   "cell_type": "markdown",
   "id": "0dcc795c",
   "metadata": {},
   "source": [
    "Evaluating classifier using its classification report and accuracy."
   ]
  },
  {
   "cell_type": "code",
   "execution_count": 8,
   "id": "6d6e5b2b",
   "metadata": {},
   "outputs": [
    {
     "name": "stdout",
     "output_type": "stream",
     "text": [
      "              precision    recall  f1-score   support\n",
      "\n",
      "           1       0.44      0.50      0.47         8\n",
      "           2       0.00      0.00      0.00         2\n",
      "           3       0.50      0.50      0.50         6\n",
      "           4       0.67      0.60      0.63        10\n",
      "           5       0.67      0.50      0.57         8\n",
      "           6       0.60      0.60      0.60         5\n",
      "\n",
      "    accuracy                           0.51        39\n",
      "   macro avg       0.48      0.45      0.46        39\n",
      "weighted avg       0.55      0.51      0.53        39\n",
      "\n",
      "Accuracy score on test set: 0.5128205128205128\n"
     ]
    }
   ],
   "source": [
    "# Printing classification accuracy report\n",
    "print(classification_report(y_test, categorical_y_final_pred))\n",
    "# Printing accuracy value\n",
    "print(f'Accuracy score on test set: {accuracy_score(y_test, categorical_y_final_pred)}')"
   ]
  },
  {
   "cell_type": "markdown",
   "id": "9785f84c",
   "metadata": {},
   "source": [
    "## 5. Defining parameters for model comparasion and exporting final model\n",
    "For further model comparasion we need to define and save final accuracy value for Bayesian Learning."
   ]
  },
  {
   "cell_type": "code",
   "execution_count": 11,
   "id": "bdbdf473",
   "metadata": {},
   "outputs": [
    {
     "name": "stdout",
     "output_type": "stream",
     "text": [
      "Bayesian Learning Model Accuracy: 0.5128205128205128\n"
     ]
    },
    {
     "data": {
      "text/plain": [
       "['saved_model/bayes.pkl']"
      ]
     },
     "execution_count": 11,
     "metadata": {},
     "output_type": "execute_result"
    }
   ],
   "source": [
    "# Defining parameters for model comparasion\n",
    "bs_accuracy = accuracy_score(y_test, categorical_y_final_pred)\n",
    "print(f'Bayesian Learning Model Accuracy: {bs_accuracy}')\n",
    "\n",
    "# Exporting final model\n",
    "joblib.dump(categorical_nb_final, 'saved_model/bayes.pkl')"
   ]
  }
 ],
 "metadata": {
  "kernelspec": {
   "display_name": "Python 3 (ipykernel)",
   "language": "python",
   "name": "python3"
  },
  "language_info": {
   "codemirror_mode": {
    "name": "ipython",
    "version": 3
   },
   "file_extension": ".py",
   "mimetype": "text/x-python",
   "name": "python",
   "nbconvert_exporter": "python",
   "pygments_lexer": "ipython3",
   "version": "3.7.12"
  }
 },
 "nbformat": 4,
 "nbformat_minor": 5
}
