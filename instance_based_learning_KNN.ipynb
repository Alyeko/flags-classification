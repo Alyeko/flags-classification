{
 "cells": [
  {
   "cell_type": "markdown",
   "id": "f0a09fb1",
   "metadata": {},
   "source": [
    "### Importing needed libraries and data"
   ]
  },
  {
   "cell_type": "code",
   "execution_count": 12,
   "id": "e0d4569e",
   "metadata": {},
   "outputs": [],
   "source": [
    "import matplotlib\n",
    "import pandas as pd\n",
    "import matplotlib.pyplot as plt\n",
    "import seaborn as sns\n",
    "import joblib\n",
    "\n",
    "# modules needed for instance-based learning\n",
    "import numpy as np\n",
    "from sklearn.model_selection import GridSearchCV\n",
    "from sklearn.svm import SVC\n",
    "from sklearn.preprocessing import RobustScaler\n",
    "from sklearn.preprocessing import MinMaxScaler\n",
    "from sklearn.neighbors import KNeighborsClassifier\n",
    "from sklearn.metrics import accuracy_score\n",
    "from sklearn.metrics import confusion_matrix\n",
    "from sklearn.model_selection import learning_curve\n",
    "np.set_printoptions(suppress=True)\n",
    "\n",
    "# import trainig, validation and test sets\n",
    "X_train_df = pd.read_csv('data/X_train.csv',header=None,skiprows=1,index_col=0)\n",
    "x_test_df = pd.read_csv('data/x_test.csv',header=None,skiprows=1,index_col=0)\n",
    "\n",
    "y_train_df = pd.read_csv('data/y_train.csv',header=None,skiprows=1,index_col=0)\n",
    "y_test_df = pd.read_csv('data/y_test.csv',header=None, skiprows=1,index_col=0)\n",
    "\n",
    "# conversions from data frames to lists\n",
    "X_train = (X_train_df.values).tolist()\n",
    "x_test = (x_test_df.values).tolist()\n",
    "\n",
    "y_train = sum(((y_train_df.values).tolist()),[])\n",
    "y_test = sum(((y_test_df.values).tolist()),[])\n"
   ]
  },
  {
   "cell_type": "markdown",
   "id": "f17942af",
   "metadata": {},
   "source": [
    "### Scaling"
   ]
  },
  {
   "cell_type": "markdown",
   "id": "903efd25",
   "metadata": {},
   "source": [
    "K-Nearest Neighbor is one of the instance-based algorithms that classifies data based on the proximity to its K number of neighbors. Given that the performance of KNN depends heavily on the distance among features, the unit/range difference among the attributes must be rescaled.\n",
    "\n",
    "Three types of scaling were compared in the following section, including standard normalization, min-max scaling and robust scaling (code adapated from: [1] scaling tutorial: https://medium.datadriveninvestor.com/increase-10-accuracy-with-re-scaling-features-in-k-nearest-neighbors-python-code-677d28032a45, [2] sklearn min-max scaler: https://scikit-learn.org/stable/modules/generated/sklearn.preprocessing.MinMaxScaler.html, and [3] sklearn robust scaler: https://scikit-learn.org/stable/modules/generated/sklearn.preprocessing.RobustScaler.html)"
   ]
  },
  {
   "cell_type": "markdown",
   "id": "0f9e78ea",
   "metadata": {},
   "source": [
    "1. standard normalization: rescale the data to transform it into an approximate normal distribution, where:\n",
    "        X_scaled = (X - X.mean) / sigma)\n",
    "        sigma = std(X)"
   ]
  },
  {
   "cell_type": "code",
   "execution_count": 13,
   "id": "7108a710",
   "metadata": {},
   "outputs": [
    {
     "name": "stdout",
     "output_type": "stream",
     "text": [
      "standard normalization finished\n"
     ]
    }
   ],
   "source": [
    "# 1. standard normalization ===========================\n",
    "mu = np.mean(X_train, axis=0)\n",
    "sigma = np.std(X_train, axis=0)\n",
    "\n",
    "X_train_sn = (X_train - mu)/sigma\n",
    "x_test_sn = (x_test - mu)/sigma\n",
    "print (\"standard normalization finished\")"
   ]
  },
  {
   "cell_type": "markdown",
   "id": "7a1879e6",
   "metadata": {},
   "source": [
    "2. min-max scaling: rescale the data with the min and max values, where:\n",
    "        X_std = (X - X.min(axis=0)) / (X.max(axis=0) - X.min(axis=0))\n",
    "        X_scaled = X_std * (max - min) + min"
   ]
  },
  {
   "cell_type": "code",
   "execution_count": 14,
   "id": "d6b736fe",
   "metadata": {},
   "outputs": [
    {
     "name": "stdout",
     "output_type": "stream",
     "text": [
      "min-max scaling finished\n"
     ]
    }
   ],
   "source": [
    "# 2. min-max scaling ====================================\n",
    "scaler = MinMaxScaler()\n",
    "scaler.fit(X_train)\n",
    "X_train_mm = scaler.transform(X_train)\n",
    "scaler.fit(x_test)\n",
    "x_test_mm = scaler.transform(x_test)\n",
    "print (\"min-max scaling finished\")"
   ]
  },
  {
   "cell_type": "markdown",
   "id": "36e03089",
   "metadata": {},
   "source": [
    "3. robust scaling: rescale the data with the median and quantile values to avoid the prescence of outliers, where:\n",
    "        x_scaled = (X - Q1)/(Q3 - Q1)"
   ]
  },
  {
   "cell_type": "code",
   "execution_count": 15,
   "id": "12a1ca5e",
   "metadata": {},
   "outputs": [
    {
     "name": "stdout",
     "output_type": "stream",
     "text": [
      "robust scaling finished\n"
     ]
    }
   ],
   "source": [
    "# 3. robust scaling =====================================\n",
    "scaler = RobustScaler()\n",
    "scaler.fit(X_train)\n",
    "X_train_rs = scaler.transform(X_train)\n",
    "scaler.fit(x_test)\n",
    "x_test_rs = scaler.transform(x_test)\n",
    "print(\"robust scaling finished\")"
   ]
  },
  {
   "cell_type": "markdown",
   "id": "4bd11792",
   "metadata": {},
   "source": [
    "### Accuracy Assessment"
   ]
  },
  {
   "cell_type": "markdown",
   "id": "8ffcc45b",
   "metadata": {},
   "source": [
    "The accuracy of a classification algorithm is equal to the proportion of examples that the classifier predicted correctly. Evaluating the accuracy on the training set is pointless because this will always be 1 by definition, and therefore, accuracy assessment is performed on the training data."
   ]
  },
  {
   "cell_type": "code",
   "execution_count": 16,
   "id": "560cbf3e",
   "metadata": {},
   "outputs": [],
   "source": [
    "def accuracy(y_ohe, ys_hat):\n",
    "    res = 0\n",
    "    for y, y_hat in zip(y_ohe, ys_hat):\n",
    "        if y == y_hat:\n",
    "            res += 1\n",
    "    res /= len(y_ohe)\n",
    "    return res"
   ]
  },
  {
   "cell_type": "markdown",
   "id": "69520013",
   "metadata": {},
   "source": [
    "### Instance-based Learning (KNN)"
   ]
  },
  {
   "cell_type": "markdown",
   "id": "9b53d5ea",
   "metadata": {},
   "source": [
    "K-nearest neighbors (KNN) is one of the algorithms in the instance-based family that has been successfully applied to many classification problems. The performance of KNN involves the tuning of its hyper-parameters, including the weight, the number of neighbors and the type of distance metric used. The most suitable hyper-parameters need to be identified before training the algorithm."
   ]
  },
  {
   "cell_type": "markdown",
   "id": "b5835840",
   "metadata": {},
   "source": [
    "Step 1: Define potential values for the hyper-parameters. These values were extracted from the list of allowable values provided by Scikit-Learn. \n",
    "\n",
    "KNN: https://scikit-learn.org/stable/modules/generated/sklearn.neighbors.KNeighborsClassifier.html "
   ]
  },
  {
   "cell_type": "code",
   "execution_count": 17,
   "id": "0822eeb5",
   "metadata": {},
   "outputs": [],
   "source": [
    "knn_hparams = [{'weights': [\"uniform\", \"distance\"],'n_neighbors': range(1,20,2),\n",
    "               'metric':['euclidean', 'manhattan', 'cosine']}]"
   ]
  },
  {
   "cell_type": "markdown",
   "id": "e08d3753",
   "metadata": {},
   "source": [
    "Step 2: Search for the most suitable hyper-parameters via gridSeachCV, which is capable of providing a list of best-found hyper-parameters (best_params) and the associated mean cross-validated score (best_score). The implementation of gridSearchCV was adapted from: https://scikit-learn.org/stable/modules/generated/sklearn.model_selection.GridSearchCV.html \n"
   ]
  },
  {
   "cell_type": "code",
   "execution_count": 18,
   "id": "5350881e",
   "metadata": {},
   "outputs": [
    {
     "name": "stdout",
     "output_type": "stream",
     "text": [
      "The most suitable hyper-parameters for KNN using normaized data are {'metric': 'euclidean', 'n_neighbors': 7, 'weights': 'distance'}\n",
      "The score of these parameter is 0.4\n",
      "The most suitable hyper-parameters for KNN using min-max scaled data are {'metric': 'euclidean', 'n_neighbors': 19, 'weights': 'uniform'}\n",
      "The score of these parameter is 0.3870967741935484\n",
      "The most suitable hyper-parameters for KNN using robusted scaled data are {'metric': 'manhattan', 'n_neighbors': 11, 'weights': 'uniform'}\n",
      "The score of these parameter is 0.4064516129032258\n"
     ]
    }
   ],
   "source": [
    "# KNN hyper-parameter tunning\n",
    "# 1. Tunning with standard normalized data\n",
    "knn_clf = KNeighborsClassifier()\n",
    "knn_search = GridSearchCV(estimator=knn_clf, param_grid=knn_hparams,cv=5)\n",
    "knn_search.fit(X_train_sn, y_train)\n",
    "print (\"The most suitable hyper-parameters for KNN using normaized data are\", knn_search.best_params_)\n",
    "print('The score of these parameter is',knn_search.best_score_)\n",
    "\n",
    "# 2. Tunning with min-max rescaled data\n",
    "knn_clf = KNeighborsClassifier()\n",
    "knn_search = GridSearchCV(estimator=knn_clf, param_grid=knn_hparams,  cv=5)\n",
    "knn_search.fit(X_train_mm, y_train)\n",
    "print (\"The most suitable hyper-parameters for KNN using min-max scaled data are\", knn_search.best_params_)\n",
    "print('The score of these parameter is',knn_search.best_score_)\n",
    "\n",
    "# 3. Tunning with robust rescaled data\n",
    "knn_clf = KNeighborsClassifier()\n",
    "knn_search = GridSearchCV(estimator=knn_clf, param_grid=knn_hparams, cv=5)\n",
    "knn_search.fit(X_train_rs, y_train)\n",
    "print (\"The most suitable hyper-parameters for KNN using robusted scaled data are\", knn_search.best_params_)\n",
    "print('The score of these parameter is',knn_search.best_score_)\n"
   ]
  },
  {
   "cell_type": "markdown",
   "id": "af96cc14",
   "metadata": {},
   "source": [
    "Step 3: Classify the flag dataset with the most suitable hyper parameters for each type of normalized data: standard, min-max and robust."
   ]
  },
  {
   "cell_type": "code",
   "execution_count": 19,
   "id": "ca1ade5b",
   "metadata": {},
   "outputs": [
    {
     "name": "stdout",
     "output_type": "stream",
     "text": [
      "Test accuracy of KNN with standard normalized data is 0.46153846153846156\n",
      "Test accuracy of KNN with min-max scaled data is 0.41025641025641024\n",
      "Test accuracy of KNN with robusted scaled data is 0.4358974358974359\n"
     ]
    }
   ],
   "source": [
    "# KNN classification with the most suitable hyper-parameters with standard normalized data \n",
    "knn_clf_sn = KNeighborsClassifier(metric='euclidean', n_neighbors=7, weights='distance')\n",
    "knn_clf_sn.fit(X_train_sn, y_train)\n",
    "ys_test_pred_sn = knn_clf_sn.predict(x_test_sn)\n",
    "print('Test accuracy of KNN with standard normalized data is', accuracy(y_test,ys_test_pred_sn))\n",
    "\n",
    "# KNN classification with the most suitable hyper-parameters with min-max scaled data\n",
    "knn_clf_mm = KNeighborsClassifier(metric='euclidean', n_neighbors=19, weights='uniform')\n",
    "knn_clf_mm.fit(X_train_mm, y_train)\n",
    "ys_test_pred_mm = knn_clf_mm.predict(x_test_mm)\n",
    "print('Test accuracy of KNN with min-max scaled data is', accuracy(y_test,ys_test_pred_mm))\n",
    "\n",
    "# KNN classification with the most suitable hyper-parameters with robusted scaled data\n",
    "knn_clf_rs = KNeighborsClassifier(metric='manhattan', n_neighbors=11, weights='uniform')\n",
    "knn_clf_rs.fit(X_train_rs, y_train)\n",
    "ys_test_pred_rs = knn_clf_rs.predict(x_test_rs)\n",
    "print('Test accuracy of KNN with robusted scaled data is', accuracy(y_test,ys_test_pred_rs))\n"
   ]
  },
  {
   "cell_type": "markdown",
   "id": "6170f65a",
   "metadata": {},
   "source": [
    "Conclusion: KNN produced the most accurate result with standard normalized data and the accordingly tunned hyper-paramters:euclidean metric, distance weighted and 7 neighbors."
   ]
  },
  {
   "cell_type": "markdown",
   "id": "4eae263f",
   "metadata": {},
   "source": [
    "### Evaluation of the predicted outcome"
   ]
  },
  {
   "cell_type": "markdown",
   "id": "88dff29e",
   "metadata": {},
   "source": [
    "Evaluating classifiеr and model fitting by plotting confusion matrix. Each row of the matrix represents the instances in a predicted class, while each column represents the instances in an actual class. Correctly classified values are located diagonally from top left to bottom right. Code adapted from: #confision matrix https://scikit-learn.org/stable/modules/generated/sklearn.metrics.confusion_matrix.html\n",
    "\n",
    "    As shown in the confusion matrix, Europe and Africa were best classified (having the highest number of correct predictions), whereas South America was not successfully classified at all."
   ]
  },
  {
   "cell_type": "code",
   "execution_count": 20,
   "id": "47924c3b",
   "metadata": {},
   "outputs": [
    {
     "data": {
      "text/plain": [
       "Text(56.760000000000005, 0.5, 'Predicted label')"
      ]
     },
     "execution_count": 20,
     "metadata": {},
     "output_type": "execute_result"
    },
    {
     "data": {
      "image/png": "[encoded data removed]",
      "text/plain": [
       "<Figure size 576x576 with 1 Axes>"
      ]
     },
     "metadata": {
      "needs_background": "light"
     },
     "output_type": "display_data"
    }
   ],
   "source": [
    "# Defining plotting parameters and plotting confusion matrix \n",
    "matrix = confusion_matrix(y_test, ys_test_pred_sn)\n",
    "\n",
    "fig, ax = plt.subplots(figsize=(8, 8))\n",
    "sns.heatmap(matrix.T, square=True, annot=True, fmt='d', cbar=False, ax=ax)\n",
    "ax.yaxis.set_ticklabels(['N.America','S.America','Europe','Africa','Asia','Oceania'])\n",
    "ax.xaxis.set_ticklabels(['N.America','S.America','Europe','Africa','Asia','Oceania'])\n",
    "plt.xlabel('True label')\n",
    "plt.ylabel('Predicted label')"
   ]
  },
  {
   "cell_type": "markdown",
   "id": "249f5210",
   "metadata": {},
   "source": [
    "Export the model to saved_model folder for stacking:"
   ]
  },
  {
   "cell_type": "code",
   "execution_count": 22,
   "id": "56c5d058",
   "metadata": {},
   "outputs": [
    {
     "data": {
      "text/plain": [
       "['saved_model/knn.pkl']"
      ]
     },
     "execution_count": 22,
     "metadata": {},
     "output_type": "execute_result"
    }
   ],
   "source": [
    "joblib.dump(knn_clf_sn, 'saved_model/knn.pkl')"
   ]
  }
 ],
 "metadata": {
  "kernelspec": {
   "display_name": "Python 3 (ipykernel)",
   "language": "python",
   "name": "python3"
  },
  "language_info": {
   "codemirror_mode": {
    "name": "ipython",
    "version": 3
   },
   "file_extension": ".py",
   "mimetype": "text/x-python",
   "name": "python",
   "nbconvert_exporter": "python",
   "pygments_lexer": "ipython3",
   "version": "3.7.12"
  }
 },
 "nbformat": 4,
 "nbformat_minor": 5
}
